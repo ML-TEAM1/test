{
 "cells": [
  {
   "cell_type": "code",
   "execution_count": null,
   "metadata": {},
   "outputs": [],
   "source": [
    " def compute_confusion_matrix(true, pred):\n",
    "    result = np.zeros((nb_classes,nb_classes))\n",
    "    \n",
    "    true = true.argmax(axis=1)\n",
    "    pred = pred.argmax(axis=1)\n",
    "    \n",
    "    for i in range(len(true)):\n",
    "        result[true[i]][pred[i]] += 1\n",
    "        \n",
    "    return result.astype('uint16')\n",
    "\n",
    "\n",
    "def plot_confusion_matrix(matrix, labels_x=CATEGORY_NAMES, labels_y=CATEGORY_NAMES):\n",
    "    \n",
    "    # vertical axis = true, horizontal axis = pred\n",
    "    \n",
    "    plt.title(\"Confusion Matrix\")\n",
    "    ax = sns.heatmap(matrix, annot=True, fmt='d', xticklabels = labels_x, yticklabels = labels_y)\n",
    "    ax.set(ylabel=\"True Label\", xlabel=\"Predicted Label\")"
   ]

